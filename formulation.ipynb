{
 "cells": [
  {
   "metadata": {},
   "cell_type": "markdown",
   "source": [
    "# Sets\n",
    "- $C$: Set aller deutschen Städte\n",
    "- $C_{>100k}$: Set aller deutschen Städte mit $\\text{population}>100.000$\n",
    "- $D$: Set aller Nachfragepunkte (äquivalent zu $C_{>100k}$)\n",
    "- $P$: Set aller möglichen Standpunkte für Logistikzentren (Voronoi-Zentren von $D$)\n",
    "- $V$: Set aller verfügbaren Fahrzeuge\n",
    "- $E$: Set aller Straßenverbindungen zwischen Städten\n",
    "- $W$: Set aller Angestellten in jedem Logistikzentrum\n",
    "- $S$: Set aller Pareto-Kandidatenlösungen"
   ],
   "id": "2fd4e001ec40a1e9"
  },
  {
   "metadata": {},
   "cell_type": "markdown",
   "source": [
    "# Indices\n",
    "- $i,j\\in{D}$: Indices der Nachfragepunkte\n",
    "- $k\\in{V}$: Index der Fahrzeuge\n",
    "- $s,s'\\in{S}$: Indices der Kandidatenlösungen"
   ],
   "id": "e6c83216b3043e75"
  },
  {
   "metadata": {},
   "cell_type": "markdown",
   "source": [
    "# Parameters\n",
    "- $Q$: Ladekapazität jedes Fahrzeugs\n",
    "- $d_{i}$: Vorhergesagte tägliche Nachfrage an Nachfragepunkt $i$\n",
    "- $d_{i}^{\\min},d_{i}^{\\max}$: Nachfragevorhersage mit Fehlertoleranz (obere und untere Grenze)\n",
    "- $f_j$: Fixkosten der Erbauung eines Logistikzentrums an Punkt $j$\n",
    "- $f_\\text{subsidized}$: Subventionierte Erbauungskosten für Berlin und Stuttgart ($f_{j}=0.8f_{\\text{base}}$)\n",
    "- $w_{j}$: Tageslohn eines Angestellten in Logistikzentrum $j$\n",
    "- $w_\\text{subsidized}$: Erhöhter Tageslohn in Berlin und Stuttgart ($w_{j}=1.1w_{\\text{base}}$)\n",
    "- $c_{ij}$: Kosten pro Distanzeinheit zwischen $i$ und $j$\n",
    "- $t_{ij}$: Realistische Reisezeit zwischen $i$ und $j$ (basierend auf Echtzeit-Verkehrsdaten)\n",
    "- $T_{\\max}$: Maximale tägliche Reisezeit pro Fahrzeug\n",
    "- $M$: Große Konstante um Bedingungen zu prüfen"
   ],
   "id": "fbadb3b88d3d2602"
  },
  {
   "metadata": {},
   "cell_type": "markdown",
   "source": [
    "# Decision Variables\n",
    "- $x_{ijk}\\in\\{0,1\\}$: $1$ wenn Fahrzeug $k$ von Stadt $i$ zu Stadt $j$ reist, sonst $0$\n",
    "- $y_{j}\\in\\{0,1\\}$: $1$ wenn Logistikzentrum an Punkt $j$ existiert, sonst $0$\n",
    "- $r_{ijk}\\in\\{0,1\\}$: $1$ wenn Fahrzeug $k$ eine alternative Route von $i$ nach $j$ fährt, sonst 0\n",
    "- $\\delta_{s,s'}\\in\\{0,1\\}$: $1$ wenn Lösung $s'$ gegenüber $s$ dominiert, sonst $0$\n",
    "- $q_{ik}\\ge{0}$: Maß an Ware die von Fahrzug $k$ an Punk $i$ geliefert wurde\n",
    "- $e_j$: Anzahl der Angestellten in Logistikzentrum $j$\n",
    "- $u_ik$: Hilfsvariable um Teilrouten zu eliminieren"
   ],
   "id": "7815f23cf931e678"
  },
  {
   "metadata": {},
   "cell_type": "markdown",
   "source": [
    "# Objective Function (Multi-Objective Pareto Optimization)\n",
    "**(A) Gesamtkosten $Z_{1}$ minimieren**\n",
    "\n",
    "$Z_{1}=\\sum\\nolimits_{j\\in{P}}f_{j}y_{j}+\\sum\\nolimits_{k\\in{V}}\\sum\\nolimits_{i\\in{D}}\\sum\\nolimits_{j\\in{D}}c_{ij}x_{ijk}+\\sum\\nolimits_{j\\in{P}}w_{j}e_j$\n",
    "\n",
    "- $\\sum\\nolimits_{j\\in{P}}f_{j}y_{j}$: Fixkosten der Logistikzentren\n",
    "- $\\sum\\nolimits_{k\\in{V}}\\sum\\nolimits_{i\\in{D}}\\sum\\nolimits_{j\\in{D}}c_{ij}x_{ijk}$: Variable Transportkosten\n",
    "- $\\sum\\nolimits_{j\\in{P}}w_{j}e_j$: Lohnkosten der Angestellten\n",
    "\n",
    "\n",
    "**(B) Lieferzeit $Z_{2}$ minimieren**\n",
    "\n",
    "$Z_{2}=\\sum\\nolimits_{k\\in{V}}\\sum\\nolimits_{i\\in{D}}\\sum\\nolimits_{j\\in{D}}t_{ij}x_{ijk}$\n",
    "\n",
    "\n",
    "**(C) Pareto-Optimalität sicherstellen**\n",
    "\n",
    "Eine Lösung $\\left(Z_{1}^{s},Z_{2}^{s}\\right)$ ist Pareto-optimal, wenn\n",
    "\n",
    "$\\sum\\nolimits_{s'\\in{S}}\\delta_{s,s'}{\\le}1,{\\quad}\\forall{s}\\in{S}$\n",
    "\n",
    "wobei\n",
    "\n",
    "$\\delta_{s,s'}=\\begin{cases}1,&\\text{wenn }Z_{1}^{s}{\\ge}Z_{1}^{s'}\\text{ und }Z_{2}^{s}{\\ge}Z_{2}^{s'}\\text{ mit mindestens einer strengen Ungleichheit},\\\\0,&\\text{ansonsten}.\\end{cases}$"
   ],
   "id": "1d6367055eb7fe12"
  },
  {
   "metadata": {},
   "cell_type": "markdown",
   "source": [
    "# Constraints\n",
    "1. Erfüllung der Nachfrage inklusive Fehlertoleranz\n",
    "\n",
    "$d_{i}^{\\min}{\\le}\\sum\\nolimits_{k\\in{V}}q_{ik}{\\le}d_i^{\\max},{\\quad}\\forall{i}\\in{D}$\n",
    "\n",
    "2. Ladekapazität für Fahrzeuge\n",
    "\n",
    "$q_{ik}{\\le}Qx_{ijk},{\\quad}\\forall{i,j}\\in{D},k\\in{V}$\n",
    "\n",
    "3. Aktivierung der Logistikzentren\n",
    "\n",
    "$\\sum\\nolimits_{i\\in{D}}x_{ijk}{\\le}My_{j},{\\quad}\\forall{j}\\in{P},k\\in{V}$\n",
    "\n",
    "4. Vorrausgesetzte Anzahl an Angestellten\n",
    "\n",
    "$e_{j}=2\\sum\\nolimits_{k\\in{V}}x_{jk},{\\quad}\\forall{j}\\in{P}$\n",
    "\n",
    "5. Eliminieren von Teilrouten\n",
    "\n",
    "$u_{ik}+u_{jk}+Qx_{ijk}{\\le}Q-d_{j},{\\quad}\\forall{i,j}\\in{D},k\\in{V},i\\ne{j}$\n",
    "\n",
    "6. Anforderungen an die Reisezeiten\n",
    "\n",
    "$T_{j}^{\\text{arrival}}{\\ge}T_{i}^{\\text{arrival}}+t_{ij}x_{ijk}d_{ij}^{\\text{detour}},{\\quad}\\forall{i,j}\\in{D},k\\in{V}$\n",
    "\n",
    "7. Verzögerungstoleranz\n",
    "\n",
    "$t_{ij}x_{ijk}+r_{ijk}d_{ij}^{\\text{detour}}{\\le}T_{\\max},{\\quad}\\forall{i,j}\\in{D},k\\in{V}$\n",
    "\n",
    "8. Aktivierung der Routenänderung\n",
    "\n",
    "$r_{ijk}{\\le}1-x_{ijk},{\\quad}\\forall{i,j}\\in{D},k\\in{V}$\n",
    "\n",
    "9. Betriebsradius der Fahrzeuge (100km)\n",
    "\n",
    "$x_{ijk}=0,{\\quad}\\text{if}{\\quad}t_{ij}>100$\n",
    "\n",
    "10. Routenkontinuität\n",
    "\n",
    "$\\sum\\nolimits_{j\\in{D}}x_{ijk}-\\sum\\nolimits_{i\\in{D}}x_{ijk}=0{\\quad}\\forall{i}\\in{D},k\\in{V}$\n",
    "\n",
    "11. Binäre und nicht-negative Bedingungen\n",
    "\n",
    "$x_{ijk}\\in\\{0,1\\},{\\quad}y_{j}\\in\\{0,1\\},{\\quad}q_{ik}\\ge{0},{\\quad}u_ik\\ge{0},{\\quad}r_{ijk}\\in\\{0,1\\}$"
   ],
   "id": "896d1897e1e9b9f8"
  },
  {
   "metadata": {},
   "cell_type": "markdown",
   "source": [
    "# Scalarization For Pareto Front Construction\n",
    "**(A) Lineare Skalarisierung (gewichtete Summe)**\n",
    "\n",
    "Wandelt mit Hilfe des Gewichtungsfaktors $\\lambda$ eine Multi-Objective Funktion in eine Single-Objective Funktion um\n",
    "\n",
    "$\\min{Z_{\\lambda}}=\\lambda{Z_{1}}+\\left(1-\\lambda\\right)Z_{2},{\\quad}\\lambda\\in{|0,1|}$\n",
    "\n",
    "\n",
    "**(B) $\\varepsilon$-Constraint (expliziter Kompromiss)**\n",
    "\n",
    "Fixiert ein Ziel und optimiert das andere\n",
    "\n",
    "$\\min{Z_{1}}{\\quad}\\text{subject to }Z_{2}{\\le}\\varepsilon$"
   ],
   "id": "3fd1e7c92bf86341"
  },
  {
   "metadata": {},
   "cell_type": "markdown",
   "source": [
    "# Relations\n",
    "$\\text{Active}(j)$: Logistikzentrum ist aktiviert, wenn $y_{j}=1$\n",
    "\n",
    "$\\text{Assigned}(k,i)$: Fahrzeug $k$ ist dem Nachfragepuinkt $i$ zugewiesen wenn $\\exists{j}\\in{P}$, so dass $x_{ijk}=1$\n",
    "\n",
    "$\\text{FeasibleRoute}(i,j,k)$: Fahrzeug $k$ kann nur dann von $i$ nach $j$ reisen, wenn $t_{ij}{\\le}100$"
   ],
   "id": "358f628cb37b43d7"
  },
  {
   "metadata": {},
   "cell_type": "markdown",
   "source": [
    "# Predicates\n",
    "$\\text{LogisticsCenter}(j)$: True wenn ein Logistikzentrum an Punkt $j$ existiert ($y_{j}=1$)\n",
    "\n",
    "$\\text{TruckRoute}(i,j,k)$: True wenn Fahrzeug $k$ von $i$ nach $j$ reist ($x_{ijk}=1$)\n",
    "\n",
    "$\\text{DemandMet}(i)$: True wenn Nachfrage an Punkt $i$ innerhalb der Fehlertoleranz liegt ($d_i^{\\min}{\\le}\\sum\\nolimits{q_{ik}}{\\le}d_i^{\\max}$)\n",
    "\n",
    "$\\text{EmployeeRequired}(j)$: True wenn $e_{j}=2\\sum\\nolimits{x_{j,k}}$"
   ],
   "id": "cd3d66897634d0b9"
  },
  {
   "metadata": {},
   "cell_type": "markdown",
   "source": [
    "# Trees and Graphs\n",
    "\n",
    "## Graph\n",
    "\n",
    "$G=\\left(V,E,W\\right)$\n",
    "\n",
    "- $V=D\\cup{P}$: Städte und Logistikzentren\n",
    "- $E=\\{\\left(i,j\\right)|i,j\\in{V},i\\ne{j},d_{ij}{\\le}100\\text{km}\\}$: Kanten existieren nur wenn Städte oder Logistikzentren in der Nähe (100km) sind\n",
    "- **Gewichtungsfunktion** $W:E\\rightarrow{\\mathbb{R}^{+}}$\n",
    "\n",
    "\t$W(i,j)=t_{ij}+r_{ij}d_{ij}^\\text{detour}+\\tau_{ij}$\n",
    "\t- $\\tau_{ij}$: dynamic traffic delay\n",
    "\n",
    "\n",
    "## Re-Routing Graph\n",
    "\n",
    "$G^*=(V,E^*,W^*)$\n",
    "\n",
    "- $E^*=E\\cup{E^\\text{detour}}$: Zusätzliche Kanten für Routenabweichungen\n",
    "- **Erweiterte Gewichtungsfunktion** $W^*$\n",
    "\n",
    "\t$W^*(i,j)=W(i,j)+\\alpha\\cdot{r_{ij}}d_{ij}^\\text{detour}$\n",
    "\t- Strafenkoeffizient $\\alpha$\n",
    "\n",
    "\n",
    "## Tree\n",
    "\n",
    "$T=(P,L)$\n",
    "\n",
    "- Nodes $P$: Logistikzentren\n",
    "- Edges $L$: Zuweisung von Beziehungen zwischen Logistikzentren und Städten\n",
    "- Jede Stadt gehört zu exact einem Logistikzentrum (many-to-one)"
   ],
   "id": "ad25940541ba8f51"
  },
  {
   "metadata": {},
   "cell_type": "markdown",
   "source": [
    "# Universal set\n",
    "$\\mathbb{U}=(C_{>100k},P,D,E,t,d^\\text{detour},\\tau,r)$"
   ],
   "id": "98dbc70c50cbc705"
  },
  {
   "metadata": {},
   "cell_type": "markdown",
   "source": "# Graph Representation (Adjacency list)",
   "id": "8f984bf73213221d"
  },
  {
   "metadata": {},
   "cell_type": "code",
   "outputs": [],
   "execution_count": null,
   "source": [
    "class Graph:\n",
    "    def __init__(self):\n",
    "        self.nodes = set()\n",
    "        self.edges = {}\n",
    "        self.weights = {}\n",
    "\n",
    "    def add_node(self, node):\n",
    "        self.nodes.add(node)\n",
    "\n",
    "    def add_edge(self, u, v, weight):\n",
    "        if u not in self.edges:\n",
    "            self.edges[u] = []\n",
    "        self.edges[u].append(v)\n",
    "        self.weights[(u,v)] = weight\n"
   ],
   "id": "cc397cdf7edeb371"
  },
  {
   "metadata": {},
   "cell_type": "markdown",
   "source": "# Augmented Graph Representation",
   "id": "d4b37da9d0b830cc"
  },
  {
   "metadata": {},
   "cell_type": "code",
   "outputs": [],
   "execution_count": null,
   "source": [
    "class ReroutingGraph(Graph):\n",
    "    def add_detour(self, u, v, detour_penalty):\n",
    "        self.add_edge(u, v, self.weights[(u, v)] + detour_penalty)\n"
   ],
   "id": "a9ff9637efc6b1fe"
  },
  {
   "metadata": {},
   "cell_type": "markdown",
   "source": "# Tree Representation",
   "id": "1b81ed59b016cbdb"
  },
  {
   "metadata": {},
   "cell_type": "code",
   "outputs": [],
   "execution_count": null,
   "source": [
    "class LogisticsTree:\n",
    "    def __init__(self):\n",
    "        self.parent = {}\n",
    "\n",
    "    def assign_city(self, city, logistics_center):\n",
    "        self.parent[city] = logistics_center\n",
    "\n",
    "    def get_assignment(self, city):\n",
    "        return self.parent.get(city, None)\n"
   ],
   "id": "74ae7bba2275f904"
  }
 ],
 "metadata": {
  "kernelspec": {
   "display_name": "Python 3",
   "language": "python",
   "name": "python3"
  },
  "language_info": {
   "codemirror_mode": {
    "name": "ipython",
    "version": 2
   },
   "file_extension": ".py",
   "mimetype": "text/x-python",
   "name": "python",
   "nbconvert_exporter": "python",
   "pygments_lexer": "ipython2",
   "version": "2.7.6"
  }
 },
 "nbformat": 4,
 "nbformat_minor": 5
}
